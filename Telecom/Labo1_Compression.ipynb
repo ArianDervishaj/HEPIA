{
 "cells": [
  {
   "cell_type": "markdown",
   "metadata": {},
   "source": [
    "# Bases des télécommunications 1 : Codage de Huffman \n",
    "\n",
    "## __Introduction__\n",
    "\n",
    "Le but de ce laboratoire est de mettre en pratique les concepts de compression de données vus en classe de Bases des\n",
    "Télécommunications. On travaillera sur la compression d’un fichier texte\n",
    "\n",
    "- Le rendu du **jupyter notebook** doit se faire sur __cyberlearn__ avec le nom de fichier : `telecom_labo1_<nom1>_<nom2>_<nom du groupe>.ipynb`\n",
    "- Le fichier texte utilisé ici doit être encodé en UTF-8 (sans BOM), vous pouvez le vérifier avec Notepad++ par exemple.\n",
    "- Exemple de code python 3 pour ouvrir en lecture un fichier texte en UTF-8 : __*open(INPUT, \"r\", encoding=\"UTF-8\")*__\n"
   ]
  },
  {
   "cell_type": "markdown",
   "metadata": {},
   "source": [
    "Noms des élèves : Dervishaj Arian, Corvaglia Francesco"
   ]
  },
  {
   "cell_type": "markdown",
   "metadata": {},
   "source": [
    "<h2>I. Tris alphabétique + fréquentiel</h2>\n",
    "\n",
    "a)  Réalisez  ci-dessous un programme qui lit un fichier texte (input.txt), puis en écrit un nouveau (out1.txt)\n",
    "en écrivant tous les caractères dans l’ordre alphabétique (ordre de leur valeur\n",
    "ASCII).\n",
    "Exemple : **abb@acA → @Aaabbc** (La fonction `sorted` de Python 3 pourrait vous aider, tout comme l’utilisation\n",
    "de dictionnaires)"
   ]
  },
  {
   "cell_type": "code",
   "execution_count": 7,
   "metadata": {},
   "outputs": [
    {
     "name": "stdout",
     "output_type": "stream",
     "text": [
      "['\\n', '\\n', '\\n', ' ', ' ', ' ', ' ', ' ', ' ', ' ', ' ', ' ', ' ', ' ', ' ', ' ', ' ', ' ', ' ', ' ', ' ', ' ', ' ', ' ', ' ', ' ', ' ', ' ', ' ', ' ', ' ', ' ', ' ', ' ', ' ', ' ', ' ', ' ', ' ', ' ', ' ', ' ', ' ', ' ', ' ', ' ', ' ', ' ', ' ', ' ', ' ', ' ', ' ', ' ', ' ', ' ', ' ', ' ', ' ', ' ', ' ', ' ', ' ', ' ', \"'\", \"'\", \"'\", \"'\", \"'\", ',', '.', '.', '.', '.', '.', '.', '.', 'C', 'C', 'D', 'D', 'D', 'I', 'I', 'I', 'L', 'L', 'L', 'a', 'a', 'a', 'a', 'a', 'a', 'a', 'a', 'a', 'a', 'a', 'a', 'a', 'a', 'a', 'a', 'a', 'a', 'a', 'a', 'a', 'a', 'a', 'b', 'b', 'b', 'c', 'c', 'c', 'c', 'c', 'c', 'c', 'd', 'd', 'd', 'd', 'd', 'd', 'd', 'd', 'd', 'd', 'd', 'd', 'e', 'e', 'e', 'e', 'e', 'e', 'e', 'e', 'e', 'e', 'e', 'e', 'e', 'e', 'e', 'e', 'e', 'e', 'e', 'e', 'e', 'e', 'e', 'e', 'e', 'e', 'e', 'e', 'e', 'e', 'e', 'e', 'e', 'e', 'e', 'e', 'e', 'e', 'e', 'e', 'e', 'e', 'e', 'e', 'e', 'e', 'e', 'e', 'e', 'f', 'g', 'g', 'i', 'i', 'i', 'i', 'i', 'i', 'i', 'i', 'i', 'i', 'i', 'i', 'i', 'i', 'i', 'i', 'i', 'i', 'i', 'l', 'l', 'l', 'l', 'l', 'l', 'l', 'l', 'l', 'l', 'l', 'l', 'l', 'l', 'l', 'm', 'm', 'm', 'm', 'm', 'm', 'm', 'm', 'm', 'm', 'm', 'm', 'n', 'n', 'n', 'n', 'n', 'n', 'n', 'n', 'n', 'n', 'n', 'n', 'n', 'n', 'n', 'n', 'n', 'n', 'n', 'n', 'n', 'n', 'n', 'o', 'o', 'o', 'o', 'o', 'o', 'o', 'o', 'o', 'o', 'o', 'o', 'o', 'o', 'o', 'o', 'o', 'p', 'p', 'p', 'p', 'p', 'p', 'p', 'p', 'p', 'q', 'q', 'q', 'r', 'r', 'r', 'r', 'r', 'r', 'r', 'r', 'r', 'r', 'r', 'r', 'r', 'r', 'r', 'r', 'r', 'r', 'r', 'r', 's', 's', 's', 's', 's', 's', 's', 's', 's', 's', 's', 's', 's', 's', 's', 's', 's', 's', 's', 's', 's', 's', 's', 's', 't', 't', 't', 't', 't', 't', 't', 't', 't', 't', 't', 't', 't', 't', 't', 't', 't', 't', 't', 't', 't', 't', 't', 't', 't', 't', 't', 't', 't', 't', 't', 't', 't', 't', 'u', 'u', 'u', 'u', 'u', 'u', 'u', 'u', 'u', 'u', 'u', 'u', 'u', 'u', 'u', 'u', 'u', 'u', 'u', 'u', 'u', 'u', 'u', 'u', 'u', 'v', 'v', 'v', 'v', 'x', 'x', 'x', 'x', 'x', 'à', 'ç', 'è', 'é', 'é', 'é', 'é', 'é']\n"
     ]
    }
   ],
   "source": [
    "# exercice a.\n",
    "from pathlib import Path\n",
    "file = Path.cwd() / 'input.txt'\n",
    "with open(file, 'r') as text:\n",
    "    textfile = text.read()\n",
    "    text_sorted = sorted(textfile)\n",
    "    nb_of_char = len(textfile)\n",
    "    print(text_sorted)\n"
   ]
  },
  {
   "cell_type": "markdown",
   "metadata": {},
   "source": [
    "b) Ajoutez à votre premier programme la possibilité d'écrire dans un nouveau fichier texte\n",
    "(out2.txt), mais cette fois, les données sont triés dans l’**ordre des fréquences d’apparition décroissante**.\n",
    "\n",
    "``Exemple : abb@acA → aabb@Ac``\n",
    "\n",
    "Votre programme doit afficher dans la console, la fréquence d’apparition pour\n",
    "chaque caractère. (Ainsi que la valeur ascii, hexadécimal et la fréquence d'apparition du caractère)\n",
    "\n",
    "Exemple : \n",
    "\n",
    "<table>\n",
    "<tr>\n",
    "    <td>a</td>\n",
    "    <td>0x61</td>\n",
    "    <td>0.285</td>\n",
    "</tr>\n",
    "<tr>\n",
    "    <td>b</td>\n",
    "    <td>0x62</td>\n",
    "    <td>0.285</td>\n",
    "</tr>\n",
    "<tr>\n",
    "    <td>A</td>\n",
    "    <td>0x41</td>\n",
    "    <td>0.142</td>\n",
    "</tr>\n",
    "</table>\n",
    "\n"
   ]
  },
  {
   "cell_type": "code",
   "execution_count": 8,
   "metadata": {
    "scrolled": true
   },
   "outputs": [
    {
     "name": "stdout",
     "output_type": "stream",
     "text": [
      "\" \"\t0x20\t0.1513647642679901 \n",
      "\n",
      "\"e\"\t0x65\t0.12158808933002481 \n",
      "\n",
      "\"t\"\t0x74\t0.08436724565756824 \n",
      "\n",
      "\"u\"\t0x75\t0.062034739454094295 \n",
      "\n",
      "\"s\"\t0x73\t0.05955334987593052 \n",
      "\n",
      "\"a\"\t0x61\t0.05707196029776675 \n",
      "\n",
      "\"n\"\t0x6e\t0.05707196029776675 \n",
      "\n",
      "\"r\"\t0x72\t0.04962779156327544 \n",
      "\n",
      "\"i\"\t0x69\t0.04714640198511166 \n",
      "\n",
      "\"o\"\t0x6f\t0.04218362282878412 \n",
      "\n",
      "\"l\"\t0x6c\t0.03722084367245657 \n",
      "\n",
      "\"d\"\t0x64\t0.02977667493796526 \n",
      "\n",
      "\"m\"\t0x6d\t0.02977667493796526 \n",
      "\n",
      "\"p\"\t0x70\t0.022332506203473945 \n",
      "\n",
      "\".\"\t0x2e\t0.017369727047146403 \n",
      "\n",
      "\"c\"\t0x63\t0.017369727047146403 \n",
      "\n",
      "\"'\"\t0x27\t0.01240694789081886 \n",
      "\n",
      "\"x\"\t0x78\t0.01240694789081886 \n",
      "\n",
      "\"é\"\t0xe9\t0.01240694789081886 \n",
      "\n",
      "\"v\"\t0x76\t0.009925558312655087 \n",
      "\n",
      "\"\n",
      "\"\t0xa\t0.007444168734491315 \n",
      "\n",
      "\"D\"\t0x44\t0.007444168734491315 \n",
      "\n",
      "\"I\"\t0x49\t0.007444168734491315 \n",
      "\n",
      "\"L\"\t0x4c\t0.007444168734491315 \n",
      "\n",
      "\"b\"\t0x62\t0.007444168734491315 \n",
      "\n",
      "\"q\"\t0x71\t0.007444168734491315 \n",
      "\n",
      "\"C\"\t0x43\t0.004962779156327543 \n",
      "\n",
      "\"g\"\t0x67\t0.004962779156327543 \n",
      "\n",
      "\",\"\t0x2c\t0.0024813895781637717 \n",
      "\n",
      "\"f\"\t0x66\t0.0024813895781637717 \n",
      "\n",
      "\"à\"\t0xe0\t0.0024813895781637717 \n",
      "\n",
      "\"ç\"\t0xe7\t0.0024813895781637717 \n",
      "\n",
      "\"è\"\t0xe8\t0.0024813895781637717 \n",
      "\n"
     ]
    }
   ],
   "source": [
    "dict_char_hex_freq = {}\n",
    "\n",
    "for char in text_sorted:\n",
    "    if char not in dict_char_hex_freq:\n",
    "        dict_char_hex_freq[char] = [hex(ord(char)),text_sorted.count(char) / len(text_sorted)]\n",
    "\n",
    "sorted_dict = sorted(dict_char_hex_freq.items(), key = lambda item:item[1][1], reverse=True)\n",
    "    \n",
    "with open('out.txt', 'w') as f:\n",
    "    for char, values in sorted_dict:\n",
    "        string = f\"\\\"{char}\\\"\\t{values[0]}\\t{values[1]} \\n\"\n",
    "        print(string)\n",
    "        f.write(string)"
   ]
  },
  {
   "cell_type": "markdown",
   "metadata": {},
   "source": [
    "c) Améliorez votre programme pour qu’il calcule l’entropie, la quantité de décision,\n",
    "la redondance et le taux de compression maximal du fichier. Le tout est à afficher\n",
    "dans la console.\n",
    "\n",
    "**⚠️ N’oubliez pas que les espaces, la ponctuation et le retour chariot sont aussi considéré comme des\n",
    "caractères. \n",
    "Votre programme doit pouvoir traiter ces caractères de manière adéquate.**\n"
   ]
  },
  {
   "cell_type": "code",
   "execution_count": 9,
   "metadata": {},
   "outputs": [
    {
     "name": "stdout",
     "output_type": "stream",
     "text": [
      "Entropie : 4.266154878255668\n",
      "Quantité de décision : 5.044394119358453\n",
      "Redondance : 0.778239241102785\n",
      "Taux de compression (peut etre): 0.15427804067017697\n"
     ]
    }
   ],
   "source": [
    "# exercice c.\n",
    "import math\n",
    "\n",
    "frequencies = [values[1] for _, values in sorted_dict]\n",
    "\n",
    "entropy = 0\n",
    "for f in frequencies:\n",
    "    if f > 0:\n",
    "        entropy -= f * math.log2(f)\n",
    "\n",
    "decision = math.log2(len(frequencies))\n",
    "redondance = decision - entropy\n",
    "taux = (decision-entropy) / decision\n",
    "\n",
    "print(f\"Entropie : {entropy}\")\n",
    "print(f\"Quantité de décision : {decision}\")\n",
    "print(f\"Redondance : {redondance}\")\n",
    "print(f\"Taux de compression (peut etre): {taux}\")"
   ]
  },
  {
   "cell_type": "markdown",
   "metadata": {},
   "source": [
    "<h2>II. Code de Huffman</h2>\n",
    "\n",
    "On veut construire un code de Huffman pour compresser notre fichier texte. On part du principe\n",
    "que le code n’a pas besoin d’être transmis dans le fichier compressé. \n"
   ]
  },
  {
   "cell_type": "markdown",
   "metadata": {},
   "source": [
    "a) À partir de l’exercice précédent (utilisez les mêmes valeurs précement calculées), écrivez un code générant un codage de Huffman pour\n",
    "les caractères de ce fichier. Votre programme doit imprimer l'arbre de codage que vous avez générer. Affichez la valeur ASCII des\n",
    "charactères ainsi que leur code binaire généré par codage de Huffman."
   ]
  },
  {
   "cell_type": "markdown",
   "metadata": {},
   "source": [
    "Exemple:\n",
    "\n",
    "<table>\n",
    "<tr>\n",
    "    <td>0x61</td>\n",
    "    <td>11</td>\n",
    "</tr>\n",
    "<tr>\n",
    "    <td>0x62</td>\n",
    "    <td>10</td>\n",
    "</tr>\n",
    "<tr>\n",
    "    <td>0x40</td>\n",
    "    <td>00</td>\n",
    "</tr>\n",
    "<tr>\n",
    "    <td>0x63</td>\n",
    "    <td>011</td>\n",
    "</tr>\n",
    "<tr>\n",
    "    <td>0x41</td>\n",
    "    <td>010</td>\n",
    "</tr>\n",
    "</table>"
   ]
  },
  {
   "cell_type": "code",
   "execution_count": null,
   "metadata": {},
   "outputs": [],
   "source": []
  },
  {
   "cell_type": "markdown",
   "metadata": {},
   "source": [
    "b) Afficher le taux moyen de bits par caractère de votre code, dans la console."
   ]
  },
  {
   "cell_type": "code",
   "execution_count": null,
   "metadata": {},
   "outputs": [],
   "source": [
    "# exercice b."
   ]
  },
  {
   "cell_type": "markdown",
   "metadata": {},
   "source": [
    " c) Que pouvez-vous conclure du résultat obtenu à l'exercice b) et de l’entropie du point (I.c), en une phrase ?\n"
   ]
  },
  {
   "cell_type": "markdown",
   "metadata": {},
   "source": [
    "**TODO: Réponse c)**"
   ]
  },
  {
   "cell_type": "markdown",
   "metadata": {},
   "source": [
    "d) Compressez le fichier texte d’input dans un nouveau fichier binaire (huffman.bin) à l'aide de votre arbre de codage. Si la longueur du message codé n’est pas un multiple de 8, rajoutez des bits 0 à la fin. Le\n",
    "fichier compressé doit avoir une taille sur disque significativement plus petite que\n",
    "celui que le fichier source."
   ]
  },
  {
   "cell_type": "code",
   "execution_count": null,
   "metadata": {},
   "outputs": [],
   "source": [
    "# exercice d."
   ]
  },
  {
   "cell_type": "markdown",
   "metadata": {},
   "source": [
    "e) Que manquerait-il à ce fichier binaire pour être décodé par n’importe qui ?\n",
    "(Bonus)"
   ]
  },
  {
   "cell_type": "markdown",
   "metadata": {},
   "source": [
    "**TODO: Bonus e)**"
   ]
  },
  {
   "cell_type": "markdown",
   "metadata": {},
   "source": [
    "# Bonus\n",
    "\n",
    "Codez par vous même la fonction de tri sans faire appel à la fonction `sorted()` de python"
   ]
  },
  {
   "cell_type": "code",
   "execution_count": null,
   "metadata": {},
   "outputs": [],
   "source": [
    "\n",
    "tabOfChars=['b','a','a','f'] # transformation du fichier lu en tableau de charactères\n",
    "mySortedList= tabOfChars.copy()\n",
    "def mySortedFunc(mySortedList):\n",
    "    ############# Bonus ###########\n",
    "    # insérer vos instructions ici\n",
    "    ##############################\n",
    "    return mySortedList\n"
   ]
  },
  {
   "cell_type": "code",
   "execution_count": null,
   "metadata": {},
   "outputs": [
    {
     "data": {
      "text/html": [
       "<script>var idx = Jupyter.notebook.get_cells().length-1;\n",
       "Jupyter.notebook.get_cell(idx).set_text('Incorrect! ![failed](https://media.tenor.com/jr9t3yabkH8AAAAC/ah-shit-here-we-go-again.gif)');\n",
       "Jupyter.notebook.to_markdown(idx);\n",
       "Jupyter.notebook.execute_cell(idx);</script>"
      ],
      "text/plain": [
       "<IPython.core.display.HTML object>"
      ]
     },
     "metadata": {},
     "output_type": "display_data"
    }
   ],
   "source": [
    "from IPython.display import display, HTML, Image\n",
    "\n",
    "resolved = sorted(tabOfChars) == mySortedFunc(mySortedList)\n",
    "    \n",
    "# Validation\n",
    "js_code = \"var idx = Jupyter.notebook.get_cells().length-1;\\n\"\n",
    "if resolved:\n",
    "    js_code += \"Jupyter.notebook.get_cell(idx).set_text('Bravo! ![success](https://media.tenor.com/-8Uay6X3E3UAAAAC/gil-cat.gif)');\\n\"\n",
    "else:\n",
    "    js_code += \"Jupyter.notebook.get_cell(idx).set_text('Incorrect! ![failed](https://media.tenor.com/jr9t3yabkH8AAAAC/ah-shit-here-we-go-again.gif)');\\n\"\n",
    "\n",
    "js_code += \"Jupyter.notebook.to_markdown(idx);\\nJupyter.notebook.execute_cell(idx);\"\n",
    "\n",
    "display(HTML('<script>{}</script>'.format(js_code)))"
   ]
  },
  {
   "cell_type": "markdown",
   "metadata": {},
   "source": [
    "Fin"
   ]
  },
  {
   "cell_type": "code",
   "execution_count": null,
   "metadata": {},
   "outputs": [],
   "source": []
  }
 ],
 "metadata": {
  "kernelspec": {
   "display_name": "Python 3 (ipykernel)",
   "language": "python",
   "name": "python3"
  },
  "language_info": {
   "codemirror_mode": {
    "name": "ipython",
    "version": 3
   },
   "file_extension": ".py",
   "mimetype": "text/x-python",
   "name": "python",
   "nbconvert_exporter": "python",
   "pygments_lexer": "ipython3",
   "version": "3.11.3"
  }
 },
 "nbformat": 4,
 "nbformat_minor": 4
}
