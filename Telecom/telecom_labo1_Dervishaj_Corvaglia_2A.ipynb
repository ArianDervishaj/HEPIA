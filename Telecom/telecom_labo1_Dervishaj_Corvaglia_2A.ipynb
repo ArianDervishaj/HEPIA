{
 "cells": [
  {
   "cell_type": "markdown",
   "metadata": {},
   "source": [
    "# Bases des télécommunications 1 : Codage de Huffman \n",
    "\n",
    "## __Introduction__\n",
    "\n",
    "Le but de ce laboratoire est de mettre en pratique les concepts de compression de données vus en classe de Bases des\n",
    "Télécommunications. On travaillera sur la compression d’un fichier texte\n",
    "\n",
    "- Le rendu du **jupyter notebook** doit se faire sur __cyberlearn__ avec le nom de fichier : `telecom_labo1_<nom1>_<nom2>_<nom du groupe>.ipynb`\n",
    "- Le fichier texte utilisé ici doit être encodé en UTF-8 (sans BOM), vous pouvez le vérifier avec Notepad++ par exemple.\n",
    "- Exemple de code python 3 pour ouvrir en lecture un fichier texte en UTF-8 : __*open(INPUT, \"r\", encoding=\"UTF-8\")*__\n"
   ]
  },
  {
   "cell_type": "markdown",
   "metadata": {},
   "source": [
    "Noms des élèves : Dervishaj Arian, Corvaglia Francesco"
   ]
  },
  {
   "cell_type": "markdown",
   "metadata": {},
   "source": [
    "<h2>I. Tris alphabétique + fréquentiel</h2>\n",
    "\n",
    "a)  Réalisez  ci-dessous un programme qui lit un fichier texte (input.txt), puis en écrit un nouveau (out1.txt)\n",
    "en écrivant tous les caractères dans l’ordre alphabétique (ordre de leur valeur\n",
    "ASCII).\n",
    "Exemple : **abb@acA → @Aaabbc** (La fonction `sorted` de Python 3 pourrait vous aider, tout comme l’utilisation\n",
    "de dictionnaires)"
   ]
  },
  {
   "cell_type": "code",
   "execution_count": 2,
   "metadata": {},
   "outputs": [
    {
     "name": "stdout",
     "output_type": "stream",
     "text": [
      "['\\n', '\\n', '\\n', ' ', ' ', ' ', ' ', ' ', ' ', ' ', ' ', ' ', ' ', ' ', ' ', ' ', ' ', ' ', ' ', ' ', ' ', ' ', ' ', ' ', ' ', ' ', ' ', ' ', ' ', ' ', ' ', ' ', ' ', ' ', ' ', ' ', ' ', ' ', ' ', ' ', ' ', ' ', ' ', ' ', ' ', ' ', ' ', ' ', ' ', ' ', ' ', ' ', ' ', ' ', ' ', ' ', ' ', ' ', ' ', ' ', ' ', ' ', ' ', ' ', \"'\", \"'\", \"'\", \"'\", \"'\", ',', '.', '.', '.', '.', '.', '.', '.', 'C', 'C', 'D', 'D', 'D', 'I', 'I', 'I', 'L', 'L', 'L', 'a', 'a', 'a', 'a', 'a', 'a', 'a', 'a', 'a', 'a', 'a', 'a', 'a', 'a', 'a', 'a', 'a', 'a', 'a', 'a', 'a', 'a', 'a', 'b', 'b', 'b', 'c', 'c', 'c', 'c', 'c', 'c', 'c', 'd', 'd', 'd', 'd', 'd', 'd', 'd', 'd', 'd', 'd', 'd', 'd', 'e', 'e', 'e', 'e', 'e', 'e', 'e', 'e', 'e', 'e', 'e', 'e', 'e', 'e', 'e', 'e', 'e', 'e', 'e', 'e', 'e', 'e', 'e', 'e', 'e', 'e', 'e', 'e', 'e', 'e', 'e', 'e', 'e', 'e', 'e', 'e', 'e', 'e', 'e', 'e', 'e', 'e', 'e', 'e', 'e', 'e', 'e', 'e', 'e', 'f', 'g', 'g', 'i', 'i', 'i', 'i', 'i', 'i', 'i', 'i', 'i', 'i', 'i', 'i', 'i', 'i', 'i', 'i', 'i', 'i', 'i', 'l', 'l', 'l', 'l', 'l', 'l', 'l', 'l', 'l', 'l', 'l', 'l', 'l', 'l', 'l', 'm', 'm', 'm', 'm', 'm', 'm', 'm', 'm', 'm', 'm', 'm', 'm', 'n', 'n', 'n', 'n', 'n', 'n', 'n', 'n', 'n', 'n', 'n', 'n', 'n', 'n', 'n', 'n', 'n', 'n', 'n', 'n', 'n', 'n', 'n', 'o', 'o', 'o', 'o', 'o', 'o', 'o', 'o', 'o', 'o', 'o', 'o', 'o', 'o', 'o', 'o', 'o', 'p', 'p', 'p', 'p', 'p', 'p', 'p', 'p', 'p', 'q', 'q', 'q', 'r', 'r', 'r', 'r', 'r', 'r', 'r', 'r', 'r', 'r', 'r', 'r', 'r', 'r', 'r', 'r', 'r', 'r', 'r', 'r', 's', 's', 's', 's', 's', 's', 's', 's', 's', 's', 's', 's', 's', 's', 's', 's', 's', 's', 's', 's', 's', 's', 's', 's', 't', 't', 't', 't', 't', 't', 't', 't', 't', 't', 't', 't', 't', 't', 't', 't', 't', 't', 't', 't', 't', 't', 't', 't', 't', 't', 't', 't', 't', 't', 't', 't', 't', 't', 'u', 'u', 'u', 'u', 'u', 'u', 'u', 'u', 'u', 'u', 'u', 'u', 'u', 'u', 'u', 'u', 'u', 'u', 'u', 'u', 'u', 'u', 'u', 'u', 'u', 'v', 'v', 'v', 'v', 'x', 'x', 'x', 'x', 'x', 'à', 'ç', 'è', 'é', 'é', 'é', 'é', 'é']\n"
     ]
    }
   ],
   "source": [
    "# exercice a.\n",
    "from pathlib import Path\n",
    "file = Path.cwd() / 'input.txt'\n",
    "with open(file, 'r') as text:\n",
    "    textfile = text.read()\n",
    "    text_sorted = sorted(textfile)\n",
    "    nb_of_char = len(textfile)\n",
    "    print(text_sorted)\n"
   ]
  },
  {
   "cell_type": "markdown",
   "metadata": {},
   "source": [
    "b) Ajoutez à votre premier programme la possibilité d'écrire dans un nouveau fichier texte\n",
    "(out2.txt), mais cette fois, les données sont triés dans l’**ordre des fréquences d’apparition décroissante**.\n",
    "\n",
    "``Exemple : abb@acA → aabb@Ac``\n",
    "\n",
    "Votre programme doit afficher dans la console, la fréquence d’apparition pour\n",
    "chaque caractère. (Ainsi que la valeur ascii, hexadécimal et la fréquence d'apparition du caractère)\n",
    "\n",
    "Exemple : \n",
    "\n",
    "<table>\n",
    "<tr>\n",
    "    <td>a</td>\n",
    "    <td>0x61</td>\n",
    "    <td>0.285</td>\n",
    "</tr>\n",
    "<tr>\n",
    "    <td>b</td>\n",
    "    <td>0x62</td>\n",
    "    <td>0.285</td>\n",
    "</tr>\n",
    "<tr>\n",
    "    <td>A</td>\n",
    "    <td>0x41</td>\n",
    "    <td>0.142</td>\n",
    "</tr>\n",
    "</table>\n",
    "\n"
   ]
  },
  {
   "cell_type": "code",
   "execution_count": 15,
   "metadata": {
    "scrolled": true
   },
   "outputs": [
    {
     "name": "stdout",
     "output_type": "stream",
     "text": [
      "' '\t0x20\t0.15136 \n",
      "\n",
      "'e'\t0x65\t0.12159 \n",
      "\n",
      "'t'\t0x74\t0.08437 \n",
      "\n",
      "'u'\t0x75\t0.06203 \n",
      "\n",
      "'s'\t0x73\t0.05955 \n",
      "\n",
      "'a'\t0x61\t0.05707 \n",
      "\n",
      "'n'\t0x6e\t0.05707 \n",
      "\n",
      "'r'\t0x72\t0.04963 \n",
      "\n",
      "'i'\t0x69\t0.04715 \n",
      "\n",
      "'o'\t0x6f\t0.04218 \n",
      "\n",
      "'l'\t0x6c\t0.03722 \n",
      "\n",
      "'d'\t0x64\t0.02978 \n",
      "\n",
      "'m'\t0x6d\t0.02978 \n",
      "\n",
      "'p'\t0x70\t0.02233 \n",
      "\n",
      "'.'\t0x2e\t0.01737 \n",
      "\n",
      "'c'\t0x63\t0.01737 \n",
      "\n",
      "\"'\"\t0x27\t0.01241 \n",
      "\n",
      "'x'\t0x78\t0.01241 \n",
      "\n",
      "'é'\t0xe9\t0.01241 \n",
      "\n",
      "'v'\t0x76\t0.00993 \n",
      "\n",
      "'\\n'\t0xa\t0.00744 \n",
      "\n",
      "'D'\t0x44\t0.00744 \n",
      "\n",
      "'I'\t0x49\t0.00744 \n",
      "\n",
      "'L'\t0x4c\t0.00744 \n",
      "\n",
      "'b'\t0x62\t0.00744 \n",
      "\n",
      "'q'\t0x71\t0.00744 \n",
      "\n",
      "'C'\t0x43\t0.00496 \n",
      "\n",
      "'g'\t0x67\t0.00496 \n",
      "\n",
      "','\t0x2c\t0.00248 \n",
      "\n",
      "'f'\t0x66\t0.00248 \n",
      "\n",
      "'à'\t0xe0\t0.00248 \n",
      "\n",
      "'ç'\t0xe7\t0.00248 \n",
      "\n",
      "'è'\t0xe8\t0.00248 \n",
      "\n"
     ]
    }
   ],
   "source": [
    "# exercice b.\n",
    "\n",
    "dict_char_hex_freq = {}\n",
    "\n",
    "for char in text_sorted:\n",
    "    if char not in dict_char_hex_freq:\n",
    "        dict_char_hex_freq[char] = (char, hex(ord(char)), text_sorted.count(char) / len(text_sorted))\n",
    "\n",
    "list_char_hex_freq = list(dict_char_hex_freq.values())\n",
    "sorted_list = sorted(list_char_hex_freq, key=lambda x: x[2], reverse=True)\n",
    "\n",
    "with open('out.txt', 'w') as f:\n",
    "    for char, char_hex, freq in sorted_list:\n",
    "        string = f\"{repr(char)}\\t{char_hex}\\t{round(freq,5)} \\n\"\n",
    "        print(string)\n",
    "        f.write(string)\n"
   ]
  },
  {
   "cell_type": "markdown",
   "metadata": {},
   "source": [
    "c) Améliorez votre programme pour qu’il calcule l’entropie, la quantité de décision,\n",
    "la redondance et le taux de compression maximal du fichier. Le tout est à afficher\n",
    "dans la console.\n",
    "\n",
    "**⚠️ N’oubliez pas que les espaces, la ponctuation et le retour chariot sont aussi considéré comme des\n",
    "caractères. \n",
    "Votre programme doit pouvoir traiter ces caractères de manière adéquate.**\n"
   ]
  },
  {
   "cell_type": "code",
   "execution_count": 4,
   "metadata": {},
   "outputs": [
    {
     "name": "stdout",
     "output_type": "stream",
     "text": [
      "Entropie : 4.266154878255668\n",
      "Quantité de décision : 5.044394119358453\n",
      "Redondance : 0.778239241102785\n",
      "Taux de compression (peut etre): 0.15427804067017697\n"
     ]
    }
   ],
   "source": [
    "# exercice c.\n",
    "import math\n",
    "\n",
    "frequencies = [values[2] for values in sorted_list] \n",
    "\n",
    "entropy = 0\n",
    "for f in frequencies:\n",
    "    if f > 0:\n",
    "        entropy -= f * math.log2(f)\n",
    "\n",
    "decision = math.log2(len(frequencies))\n",
    "redondance = decision - entropy\n",
    "taux = (decision-entropy) / decision\n",
    "\n",
    "print(f\"Entropie : {entropy}\")\n",
    "print(f\"Quantité de décision : {decision}\")\n",
    "print(f\"Redondance : {redondance}\")\n",
    "print(f\"Taux de compression (peut etre): {taux}\")"
   ]
  },
  {
   "cell_type": "markdown",
   "metadata": {},
   "source": [
    "<h2>II. Code de Huffman</h2>\n",
    "\n",
    "On veut construire un code de Huffman pour compresser notre fichier texte. On part du principe\n",
    "que le code n’a pas besoin d’être transmis dans le fichier compressé. \n"
   ]
  },
  {
   "cell_type": "markdown",
   "metadata": {},
   "source": [
    "a) À partir de l’exercice précédent (utilisez les mêmes valeurs précement calculées), écrivez un code générant un codage de Huffman pour\n",
    "les caractères de ce fichier. Votre programme doit imprimer l'arbre de codage que vous avez générer. Affichez la valeur ASCII des\n",
    "charactères ainsi que leur code binaire généré par codage de Huffman."
   ]
  },
  {
   "cell_type": "markdown",
   "metadata": {},
   "source": [
    "Exemple:\n",
    "\n",
    "<table>\n",
    "<tr>\n",
    "    <td>0x61</td>\n",
    "    <td>11</td>\n",
    "</tr>\n",
    "<tr>\n",
    "    <td>0x62</td>\n",
    "    <td>10</td>\n",
    "</tr>\n",
    "<tr>\n",
    "    <td>0x40</td>\n",
    "    <td>00</td>\n",
    "</tr>\n",
    "<tr>\n",
    "    <td>0x63</td>\n",
    "    <td>011</td>\n",
    "</tr>\n",
    "<tr>\n",
    "    <td>0x41</td>\n",
    "    <td>010</td>\n",
    "</tr>\n",
    "</table>"
   ]
  },
  {
   "cell_type": "code",
   "execution_count": 5,
   "metadata": {},
   "outputs": [
    {
     "name": "stdout",
     "output_type": "stream",
     "text": [
      "' ' \t 0x20 \t 110\n",
      "'e' \t 0x65 \t 100\n",
      "'t' \t 0x74 \t 1111\n",
      "'u' \t 0x75 \t 1010\n",
      "'s' \t 0x73 \t 0110\n",
      "'a' \t 0x61 \t 0100\n",
      "'n' \t 0x6e \t 0101\n",
      "'r' \t 0x72 \t 0010\n",
      "'i' \t 0x69 \t 0000\n",
      "'o' \t 0x6f \t 11101\n",
      "'l' \t 0x6c \t 10111\n",
      "'d' \t 0x64 \t 00111\n",
      "'m' \t 0x6d \t 01110\n",
      "'p' \t 0x70 \t 00010\n",
      "'.' \t 0x2e \t 101101\n",
      "'c' \t 0x63 \t 111000\n",
      "\"'\" \t 0x27 \t 000111\n",
      "'x' \t 0x78 \t 001100\n",
      "'é' \t 0xe9 \t 001101\n",
      "'v' \t 0x76 \t 1110010\n",
      "'\\n' \t 0xa \t 0001101\n",
      "'D' \t 0x44 \t 0111100\n",
      "'I' \t 0x49 \t 0111101\n",
      "'L' \t 0x4c \t 0111110\n",
      "'b' \t 0x62 \t 0111111\n",
      "'q' \t 0x71 \t 1011000\n",
      "'C' \t 0x43 \t 10110011\n",
      "'g' \t 0x67 \t 11100110\n",
      "'à' \t 0xe0 \t 00011000\n",
      "'ç' \t 0xe7 \t 00011001\n",
      "'è' \t 0xe8 \t 10110010\n",
      "',' \t 0x2c \t 111001110\n",
      "'f' \t 0x66 \t 111001111\n"
     ]
    }
   ],
   "source": [
    "# exercice a.\n",
    "class node:\n",
    "    def __init__(self,isLeaf, character, parent, child, binary_value, freq):\n",
    "        self.isLeaf = isLeaf\n",
    "        self.character = character\n",
    "        self.parent = parent\n",
    "        self.child = child\n",
    "        self.binary_value = binary_value\n",
    "        self.freq = freq\n",
    "    def __str__(self):\n",
    "        return f\"node(character={self.character} binary_value={self.binary_value}, freq={self.freq})\"\n",
    "\n",
    "def browseTree(item, code, list_char_code_freq):\n",
    "    if item.isLeaf:\n",
    "        code += str(item.binary_value)\n",
    "        list_char_code_freq.append([item.character, code, item.freq])\n",
    "        item.parent.child.pop(0)\n",
    "    elif len(item.child) == 0:\n",
    "        item.parent.child.pop(0)\n",
    "    else:\n",
    "        if item.binary_value != None:\n",
    "            code += str(item.binary_value)\n",
    "        browseTree(item.child[0], code, list_char_code_freq)\n",
    "\n",
    "tree = [node(isLeaf=True, character=item[0], child=None, parent=None, binary_value=None, freq=item[2]) for item in sorted_list]\n",
    "list_char_code_freq = []\n",
    "while len(tree) > 1:\n",
    "    tree = sorted(tree, key = lambda item: item.freq)\n",
    "    [tree[0].binary_value, tree[1].binary_value] = [0,1]\n",
    "    new_node = node(isLeaf = False, character= None, parent= None, child = [tree[0], tree[1]], binary_value=None,freq=tree[0].freq + tree[1].freq)\n",
    "    tree[0].parent = new_node\n",
    "    tree[1].parent = new_node\n",
    "    tree.append(new_node)\n",
    "    tree = tree[2:]\n",
    "\n",
    "while len(tree[0].child) > 0:\n",
    "    code = \"\"\n",
    "    browseTree(tree[0], code, list_char_code_freq)\n",
    "\n",
    "\n",
    "for item in sorted(list_char_code_freq, key=lambda x: x[2], reverse=True):\n",
    "    print(f\"{repr(item[0])} \\t {hex(ord(item[0]))} \\t {item[1]}\")\n",
    "        "
   ]
  },
  {
   "cell_type": "markdown",
   "metadata": {},
   "source": [
    "b) Afficher le taux moyen de bits par caractère de votre code, dans la console."
   ]
  },
  {
   "cell_type": "code",
   "execution_count": 6,
   "metadata": {},
   "outputs": [
    {
     "name": "stdout",
     "output_type": "stream",
     "text": [
      "Taux moyen de bits : 4.290322580645161 bits\n",
      "Redondance : 0.024167702389492618\n"
     ]
    }
   ],
   "source": [
    "# exercice b.\n",
    "avg_bits = 0\n",
    "\n",
    "for item in list_char_code_freq:\n",
    "    avg_bits += len(item[1])*item[2]\n",
    "\n",
    "print(\"Taux moyen de bits : \" + str(avg_bits) + \" bits\")\n",
    "print(\"Redondance : \" + str(avg_bits-entropy))"
   ]
  },
  {
   "cell_type": "markdown",
   "metadata": {},
   "source": [
    " c) Que pouvez-vous conclure du résultat obtenu à l'exercice b) et de l’entropie du point (I.c), en une phrase ?\n"
   ]
  },
  {
   "cell_type": "markdown",
   "metadata": {},
   "source": [
    "La redondance est plus faible au point b. ce qui veut dire que l'efficacité de compression au point 1.C est plus faible"
   ]
  },
  {
   "cell_type": "markdown",
   "metadata": {},
   "source": [
    "d) Compressez le fichier texte d’input dans un nouveau fichier binaire (huffman.bin) à l'aide de votre arbre de codage. Si la longueur du message codé n’est pas un multiple de 8, rajoutez des bits 0 à la fin. Le\n",
    "fichier compressé doit avoir une taille sur disque significativement plus petite que\n",
    "celui que le fichier source."
   ]
  },
  {
   "cell_type": "code",
   "execution_count": 7,
   "metadata": {},
   "outputs": [
    {
     "name": "stdout",
     "output_type": "stream",
     "text": [
      "Texte en binaire : \n",
      "0111110000111010011100100100010111110100111001101001100011110101100111110111010010100011101100111101000100110101001110110011010100010110101001011101111100001100111110011011100110001101010100110100100000101100010101001101110001110101110011101001100001110111100101011011111000011001111100101101110011110010101101111100001100111110010110111001111001010110111110000110011111001011010001111101000110111111010110001010000111000010111110000101110101100110101100100011110011010100101100110001110000011011110010000001111111010111100001110101011100011110011010111100111111110010100011011000010101111010011011011101101011001110111010000010101101100101111010010011100100101111001011011100001101101100111001111111110011000111000001101111001000000111111101011110000111010101110100011011111101000101110111111101101011111101110000100011011011100011101011100001001000010010001111111011110011001001110010100111000110111000100101111011110011000111101011011100111100100100010100011001010000000110110011011110100010100111010000100011110110100011011011001111101010111110010010000000010100011101000101111111000011000110101001011001101110100010000001010000111010101110001000110100010010001010011110101001110011101101011110011001111101110100101000111011001111010001001101010011101100101000111100011011111100001001000110110011000000111000010101111000111010001011111110001111010110111110000110011111001100100101110011010100111111101000000101001011010001101011110110111110111100101110110101110010100110011010001101100010010011100000000101100011011000111010001010110110101001011001101110110010101110010001010011000111100110101110100110101110000111111110011010010010011111010001010011010111010011110000010110011011100010111010001100110000010110001010100101101\n",
      "\n",
      "Texte en clair : \n",
      "L'avantage du Lorem Ipsum sur un texte générique comme 'Du texte. Du texte. Du texte.' est qu'il possède une distribution de lettres plus ou moins normale. \n",
      "Cette distribution est en tout cas comparable avec celle du français standard.\n",
      "Contrairement à une opinion répandue, le Lorem Ipsum n'est pas simplement du texte aléatoire.\n",
      "Il trouve ses racines dans une oeuvre de la littérature latine classique.\n"
     ]
    }
   ],
   "source": [
    "# exercice d.\n",
    "\n",
    "def get_code(character):\n",
    "    for code in list_char_code_freq:\n",
    "        if code[0] == character:\n",
    "            return code[1]\n",
    "    return None\n",
    "\n",
    "def text_decoder(text):\n",
    "    decoded_text = \"\"\n",
    "    code = \"\"\n",
    "    for binary in text:\n",
    "        code += binary\n",
    "        for item in list_char_code_freq:\n",
    "            if code == item[1]:\n",
    "                decoded_text += item[0]\n",
    "                code = \"\"\n",
    "    return decoded_text\n",
    "\n",
    "with open(\"input.txt\", \"r\") as file:\n",
    "    file_content = file.read()\n",
    "\n",
    "coded_text = \"\"\n",
    "for char in file_content:\n",
    "    if get_code(char) != None:\n",
    "        coded_text += get_code(char)\n",
    "\n",
    "print(\"Texte en binaire : \")\n",
    "print(coded_text)\n",
    "print(\"\")\n",
    "print(\"Texte en clair : \")\n",
    "print(text_decoder(coded_text))\n",
    "\n",
    "while len(coded_text)%8 != 0:\n",
    "    coded_text += \"0\"\n",
    "\n",
    "with open(\"huffman.bin\", \"wb\") as file:\n",
    "    increment = 0\n",
    "    while increment < len(coded_text):\n",
    "        octal = \"\"\n",
    "        j_increment = increment\n",
    "        while j_increment < increment + 8:\n",
    "            octal += coded_text[j_increment]\n",
    "            j_increment += 1\n",
    "\n",
    "        file.write(bytes([int(octal,2)]))\n",
    "        increment += 8\n",
    "            \n",
    "    "
   ]
  },
  {
   "cell_type": "markdown",
   "metadata": {},
   "source": [
    "e) Que manquerait-il à ce fichier binaire pour être décodé par n’importe qui ?\n",
    "(Bonus)"
   ]
  },
  {
   "cell_type": "markdown",
   "metadata": {},
   "source": [
    "**TODO: Bonus e)**"
   ]
  },
  {
   "cell_type": "markdown",
   "metadata": {},
   "source": [
    "# Bonus\n",
    "\n",
    "Codez par vous même la fonction de tri sans faire appel à la fonction `sorted()` de python"
   ]
  },
  {
   "cell_type": "code",
   "execution_count": 8,
   "metadata": {},
   "outputs": [
    {
     "name": "stdout",
     "output_type": "stream",
     "text": [
      "['a', 'a', 'b', 'f']\n"
     ]
    }
   ],
   "source": [
    "import math\n",
    "tabOfChars=['b','a','a','f'] # transformation du fichier lu en tableau de charactères\n",
    "mySortedList= tabOfChars.copy()\n",
    "def mySortedFunc(mySortedList):\n",
    "    \n",
    "    if len(mySortedList) < 2:\n",
    "        return mySortedList\n",
    "        \n",
    "    low, same, high = [], [], []\n",
    "    pivot = mySortedList[math.ceil(len(mySortedList)/2)]\n",
    "\n",
    "    for item in mySortedList:\n",
    "        if item < pivot:\n",
    "            low.append(item)\n",
    "        elif item == pivot:\n",
    "            same.append(item)\n",
    "        elif item > pivot:\n",
    "            high.append(item)\n",
    "    mySortedList = mySortedFunc(low) + same + mySortedFunc(high)\n",
    "    return mySortedList\n",
    "\n",
    "print(mySortedFunc(mySortedList))"
   ]
  },
  {
   "cell_type": "code",
   "execution_count": 9,
   "metadata": {},
   "outputs": [
    {
     "data": {
      "text/html": [
       "<script>var idx = Jupyter.notebook.get_cells().length-1;\n",
       "Jupyter.notebook.get_cell(idx).set_text('Bravo! ![success](https://media.tenor.com/-8Uay6X3E3UAAAAC/gil-cat.gif)');\n",
       "Jupyter.notebook.to_markdown(idx);\n",
       "Jupyter.notebook.execute_cell(idx);</script>"
      ],
      "text/plain": [
       "<IPython.core.display.HTML object>"
      ]
     },
     "metadata": {},
     "output_type": "display_data"
    }
   ],
   "source": [
    "from IPython.display import display, HTML, Image\n",
    "\n",
    "resolved = sorted(tabOfChars) == mySortedFunc(mySortedList)\n",
    "    \n",
    "# Validation\n",
    "js_code = \"var idx = Jupyter.notebook.get_cells().length-1;\\n\"\n",
    "if resolved:\n",
    "    js_code += \"Jupyter.notebook.get_cell(idx).set_text('Bravo! ![success](https://media.tenor.com/-8Uay6X3E3UAAAAC/gil-cat.gif)');\\n\"\n",
    "else:\n",
    "    js_code += \"Jupyter.notebook.get_cell(idx).set_text('Incorrect! ![failed](https://media.tenor.com/jr9t3yabkH8AAAAC/ah-shit-here-we-go-again.gif)');\\n\"\n",
    "\n",
    "js_code += \"Jupyter.notebook.to_markdown(idx);\\nJupyter.notebook.execute_cell(idx);\"\n",
    "\n",
    "display(HTML('<script>{}</script>'.format(js_code)))"
   ]
  },
  {
   "cell_type": "markdown",
   "metadata": {},
   "source": [
    "Fin"
   ]
  }
 ],
 "metadata": {
  "kernelspec": {
   "display_name": "Python 3 (ipykernel)",
   "language": "python",
   "name": "python3"
  },
  "language_info": {
   "codemirror_mode": {
    "name": "ipython",
    "version": 3
   },
   "file_extension": ".py",
   "mimetype": "text/x-python",
   "name": "python",
   "nbconvert_exporter": "python",
   "pygments_lexer": "ipython3",
   "version": "3.11.3"
  }
 },
 "nbformat": 4,
 "nbformat_minor": 4
}
