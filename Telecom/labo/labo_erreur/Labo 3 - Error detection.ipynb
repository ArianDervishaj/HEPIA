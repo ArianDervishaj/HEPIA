{
 "cells": [
  {
   "cell_type": "markdown",
   "id": "10767c8b-d2b4-4d4f-bad2-1c4b1365054e",
   "metadata": {},
   "source": [
    "# Bases des télécommunications 1\n",
    "\n",
    "Étudiants: \n",
    "\n",
    "Nom du groupe :"
   ]
  },
  {
   "cell_type": "markdown",
   "id": "8aa99bbb",
   "metadata": {},
   "source": [
    "## Introduction\n",
    "\n",
    "Le but de ce laboratoire est de mettre en pratique les concepts vus en classe de Bases des\n",
    "Télécommunications. On travaillera ainsi sur la détection d'erreur sur un fichier texte.\n",
    "\n",
    "- Le rendu du **jupyter notebook** doit se faire sur __cyberlearn__ sous le nom de fichier \"prenom_nom_groupe\" \n",
    "- Le fichier texte utilisé ici doit être encodé en UTF-8 (sans BOM), vous pouvez le vérifier avec Notepad++ par exemple.\n",
    "- Exemple de code python 3 pour ouvrir en lecture un fichier texte en UTF-8 : __*open(INPUT, \"r\", encoding=\"UTF-8\")*__\n",
    "\n",
    "## I. Parité simple\n",
    "\n",
    "a) Réalisez ci-dessous une **fonction** qui insère le bit de parité dans un charactère ascii. La fonction doit pouvoir calculer la parité pair ou impair\n",
    "\n",
    "<table style=\" margin-left: auto;margin-right: auto;\">\n",
    "    <tr>\n",
    "        <td>2<sup>7</sup></td>\n",
    "        <td>2<sup>6</sup></td>\n",
    "        <td>2<sup>5</sup></td>\n",
    "        <td>2<sup>4</sup></td>\n",
    "        <td>2<sup>3</sup></td>\n",
    "        <td>2<sup>2</sup></td>\n",
    "        <td>2<sup>1</sup></td>\n",
    "        <td>2<sup>0</sup></td>\n",
    "    </tr>\n",
    "    <tr>\n",
    "        <td>1</td>\n",
    "        <td>0</td>\n",
    "        <td>0</td>\n",
    "        <td>0</td>\n",
    "        <td>1</td>\n",
    "        <td>1</td>\n",
    "        <td>0</td>\n",
    "        <td>1</td>\n",
    "    </tr>        \n",
    "    <tr>\n",
    "        <td colspan=\"8\" style=\" text-align: right;\">↑ <br/> bit de parité</td>\n",
    "    </tr>        \n",
    "</table>"
   ]
  },
  {
   "cell_type": "markdown",
   "id": "3d4b0507",
   "metadata": {},
   "source": [
    "Voici deux exemples qui vont permettre de comprendre comment fonctionne la création du bit de parité pair. \n",
    "\n",
    "**Indice: Sur combien de bit, un charactère ascii est-il codé  ?**\n",
    "<table style=\" margin-left: auto;margin-right: auto;\">\n",
    "    <tr>\n",
    "    <td colspan=\"8\" style=\"text-align:center\" >charactère '*'</td>\n",
    "    </tr>\n",
    "    <tr>\n",
    "        <td>2<sup>7</sup></td>\n",
    "        <td>2<sup>6</sup></td>\n",
    "        <td>2<sup>5</sup></td>\n",
    "        <td>2<sup>4</sup></td>\n",
    "        <td>2<sup>3</sup></td>\n",
    "        <td>2<sup>2</sup></td>\n",
    "        <td>2<sup>1</sup></td>\n",
    "        <td>2<sup>0</sup></td>\n",
    "    </tr>\n",
    "    <tr>\n",
    "        <td>0</td>\n",
    "        <td>1</td>\n",
    "        <td>0</td>\n",
    "        <td>1</td>\n",
    "        <td>0</td>\n",
    "        <td>1</td>\n",
    "        <td>0</td>\n",
    "        <td>1</td>\n",
    "    </tr>        \n",
    "    <tr>\n",
    "        <td colspan=\"8\" style=\" text-align: right;\">↑ <br/> bit de parité</td>\n",
    "    </tr>        \n",
    "</table>\n",
    "\n",
    "</br>\n",
    "<table style=\" margin-left: auto;margin-right: auto;\">\n",
    "    <tr>\n",
    "    <td colspan=\"8\" style=\"text-align:center\" >charactère '('</td>\n",
    "    </tr>\n",
    "    <tr>\n",
    "        <td>2<sup>7</sup></td>\n",
    "        <td>2<sup>6</sup></td>\n",
    "        <td>2<sup>5</sup></td>\n",
    "        <td>2<sup>4</sup></td>\n",
    "        <td>2<sup>3</sup></td>\n",
    "        <td>2<sup>2</sup></td>\n",
    "        <td>2<sup>1</sup></td>\n",
    "        <td>2<sup>0</sup></td>\n",
    "    </tr>\n",
    "    <tr>\n",
    "        <td>0</td>\n",
    "        <td>1</td>\n",
    "        <td>0</td>\n",
    "        <td>1</td>\n",
    "        <td>0</td>\n",
    "        <td>0</td>\n",
    "        <td>0</td>\n",
    "        <td>0</td>\n",
    "    </tr>        \n",
    "    <tr>\n",
    "        <td colspan=\"8\" style=\" text-align: right;\">↑ <br/> bit de parité</td>\n",
    "    </tr>        \n",
    "</table>"
   ]
  },
  {
   "cell_type": "code",
   "execution_count": 225,
   "id": "31ba9ad2-0217-49b4-a15c-3aba7167a76b",
   "metadata": {},
   "outputs": [],
   "source": [
    "def generate_parity_bit(char, even=0):\n",
    "    bin_char = bin(ord(char))[2:]\n",
    "    one_count = bin_char.count('1')\n",
    "    if one_count % 2 != 0:\n",
    "        even = 1\n",
    "    bin_char_parity = bin(int(bin_char, 2) << 1 | even)[2:]\n",
    "\n",
    "    return bin_char_parity"
   ]
  },
  {
   "cell_type": "markdown",
   "id": "808033e0",
   "metadata": {},
   "source": [
    "b) Réalisez ci-dessous un programme qui affiche le nombre total d'erreur dans le fichier text (**input_with_error.bin**) à l'aide du bit de parité."
   ]
  },
  {
   "cell_type": "code",
   "execution_count": 101,
   "id": "088e58e1",
   "metadata": {},
   "outputs": [
    {
     "data": {
      "text/plain": [
       "42123"
      ]
     },
     "execution_count": 101,
     "metadata": {},
     "output_type": "execute_result"
    }
   ],
   "source": [
    "content = \"\"\n",
    "\n",
    "with open(\"input_with_errors.bin\",\"rb\") as f:\n",
    "    content = f.read()\n",
    "    count = 0\n",
    "    for i in range(len(content)):\n",
    "        if bin(content[i]).count('1') % 2 != 0:\n",
    "            count += 1\n",
    "\n",
    "count"
   ]
  },
  {
   "cell_type": "markdown",
   "id": "f0976e67",
   "metadata": {},
   "source": [
    "c) Réaliser ci-dessous une fonction permettant:\n",
    " \n",
    " 1. de calculer le bit de parité du charactère\n",
    " 2. d'altérer le charactère _**dans toutes les positions possibles selon la table ASCII**_ (Conseil: utilisé la fonction **[randrange()](https://docs.python.org/3/library/random.html#random.randrange)** )\n",
    " 3. ajouter le bit de parité au charactère altéré."
   ]
  },
  {
   "cell_type": "code",
   "execution_count": 332,
   "id": "04cf5622",
   "metadata": {},
   "outputs": [
    {
     "name": "stdout",
     "output_type": "stream",
     "text": [
      "1110011\n"
     ]
    }
   ],
   "source": [
    "import random\n",
    "def calculate_parity_bit(byte):\n",
    "    count = bin(byte).count('1')\n",
    "    return count % 2\n",
    "\n",
    "def edit_char(char):\n",
    "    parity_bit = calculate_parity_bit(ord(char))\n",
    "\n",
    "    new_char = chr(random.randrange(128))\n",
    "    new_char_bin = bin(ord(new_char))[2:] + str(parity_bit)\n",
    "    print(new_char_bin)\n",
    "\n",
    "edit_char('v')"
   ]
  },
  {
   "cell_type": "code",
   "execution_count": 337,
   "id": "a81d0616-5e15-440b-b332-eba8e8dd0f57",
   "metadata": {},
   "outputs": [
    {
     "ename": "SyntaxError",
     "evalue": "unmatched ')' (3894333900.py, line 1)",
     "output_type": "error",
     "traceback": [
      "\u001b[0;36m  Cell \u001b[0;32mIn[337], line 1\u001b[0;36m\u001b[0m\n\u001b[0;31m    d) Réaliser ci-dessous un programme permettant d'ajouter le bit de parité selon la machine à états suivant au fichier **\"input.txt\"** selon le schéma suivant et sauvegarder le résultat **\"output.bin\"**:\u001b[0m\n\u001b[0m     ^\u001b[0m\n\u001b[0;31mSyntaxError\u001b[0m\u001b[0;31m:\u001b[0m unmatched ')'\n"
     ]
    }
   ],
   "source": [
    "# d) Réaliser ci-dessous un programme permettant d'ajouter le bit de parité selon la machine à états suivant au fichier **\"input.txt\"** selon le schéma suivant et sauvegarder le résultat **\"output.bin\"**:\n",
    "\n",
    "# ![state_machine](state_machine.jpg)\n",
    "\n",
    "# La **graine** utilisé pour créer le fichier **input_with_error.bin** est le numéro **43**.\n",
    "import random\n",
    "SEED = 43\n",
    "STATE_ERROR = False\n",
    "AVERAGE = 1 - (10e-6)\n",
    "random.seed(43)\n",
    "file_content = \"\"\n",
    "\n",
    "with open(\"input.txt\",\"rb\") as f:\n",
    "    file_content = f.read()\n",
    "nb_error = 0\n",
    "\n",
    "def generate_errors(char, state_error):\n",
    "    \"\"\"\n",
    "    Generate an error randomly. The state is\n",
    "    \"\"\"\n",
    "    global nb_error # this tells python to use the variable from the global scope\n",
    "    # Complete the function from here\n",
    "    pass\n",
    "\n",
    "\n",
    "# Write the bytes in the file\n",
    "for byte in file_content:\n",
    "    erroneous_byte = generate(byte, STATE_ERROR)\n",
    "    result.append(erroneous_byte)\n",
    "print(f\"Number of errors : {nb_error}\")\n",
    "\n",
    "with open(\"input_with_errors.bin\", \"wb\") as f:\n",
    "    # Write, in binary, the corrupted chars in the files erroneous file\n",
    "    pass"
   ]
  },
  {
   "cell_type": "markdown",
   "id": "6408a420",
   "metadata": {},
   "source": [
    "d) Réaliser ci-dessous un programme permettant d'ajouter le bit de parité selon la machine à états suivant au fichier **\"input.txt\"** selon le schéma suivant et sauvegarder le résultat **\"output.bin\"**:\n",
    "\n",
    "![state_machine](state_machine.jpg)\n",
    "\n",
    "La **graine** utilisé pour créer le fichier **input_with_error.bin** est le numéro **43**."
   ]
  },
  {
   "cell_type": "code",
   "execution_count": 333,
   "id": "737da068",
   "metadata": {},
   "outputs": [],
   "source": [
    "import random\n",
    "SEED = 43\n",
    "STATE_ERROR = False\n",
    "AVERAGE = 1 - (10e-6)\n",
    "random.seed(43)"
   ]
  },
  {
   "cell_type": "code",
   "execution_count": 334,
   "id": "d36d70a7",
   "metadata": {},
   "outputs": [],
   "source": [
    "file_content = \"\"\n",
    "\n",
    "with open(\"input.txt\",\"rb\") as f:\n",
    "    file_content = f.read()\n"
   ]
  },
  {
   "cell_type": "code",
   "execution_count": 523,
   "id": "d0d50e58-ef09-40b0-b024-96ba2a0f3299",
   "metadata": {},
   "outputs": [
    {
     "name": "stdout",
     "output_type": "stream",
     "text": [
      "65\n",
      "3\n"
     ]
    },
    {
     "data": {
      "text/plain": [
       "0"
      ]
     },
     "execution_count": 523,
     "metadata": {},
     "output_type": "execute_result"
    }
   ],
   "source": [
    "### nb_error = 0\n",
    "\n",
    "def generate_errors(char, state_error):\n",
    "    \"\"\"\n",
    "    Generate an error randomly. The state is\n",
    "    \"\"\"\n",
    "    global nb_error # this tells python to use the variable from the global scope\n",
    "    erroneous_byte = 0\n",
    "    char_val = ord(char)\n",
    "    \n",
    "    if state_error:\n",
    "        nb_error += 1\n",
    "        bit_place = random.randint(0,len(bin(char_val)[2:]))\n",
    "        char_val = char_val >> bit_place ^ 1\n",
    "        char = chr(char_val)\n",
    "    else:\n",
    "        erroneous_byte = byte\n",
    "    return erroneous_byte\n",
    "\n",
    "generate_errors('A',True)\n",
    "# result = []\n",
    "# # Write the bytes in the file\n",
    "# for byte in file_content:\n",
    "#     erroneous_byte = generate_errors(byte, STATE_ERROR)\n",
    "#     result.append(erroneous_byte)"
   ]
  },
  {
   "cell_type": "code",
   "execution_count": null,
   "id": "345fbbcc",
   "metadata": {},
   "outputs": [],
   "source": [
    "print(f\"Number of errors : {nb_error}\")\n",
    "\n",
    "with open(\"input_with_errors.bin\", \"wb\") as f:\n",
    "    f.write(b''.join(result))"
   ]
  },
  {
   "cell_type": "markdown",
   "id": "82bcbbad",
   "metadata": {},
   "source": [
    "**⚠️ ATTENTION ⚠️** veillez à reéxecuter le code de _seeding_ lorsque vous utilisez la génération aléatoire avec la graine. Sinon vous aurez des valeurs différentes que le fichier encodé par nos soins. "
   ]
  },
  {
   "cell_type": "markdown",
   "id": "2566ddf8-0746-4eba-b5ec-ff1787e79d45",
   "metadata": {},
   "source": [
    "## II. Correction d'erreurs\n",
    "\n",
    "Vérifier de deux manières différentes que votre fichier généré est identique au fichier **check_input_with_errors.bin**\n",
    "\n",
    "a) Méthode 1"
   ]
  },
  {
   "cell_type": "code",
   "execution_count": null,
   "id": "9c0652e5-34db-4959-a66b-14cfcb3034af",
   "metadata": {},
   "outputs": [],
   "source": [
    "with open('check_input_with_errors.bin', 'rb') as file1, open('input_with_errors.bin', 'rb') as file2:\n",
    "    content1 = file1.read()\n",
    "    content2 = file2.read()\n",
    "    \n",
    "    if(content1 == content2):\n",
    "        print(\"identique\")\n",
    "    else:\n",
    "        print(\"pas identique\")\n"
   ]
  },
  {
   "cell_type": "markdown",
   "id": "1e7ec60d",
   "metadata": {},
   "source": [
    "b) Méthode 2"
   ]
  },
  {
   "cell_type": "code",
   "execution_count": null,
   "id": "acbeaf38",
   "metadata": {},
   "outputs": [],
   "source": [
    "# Code for verification method 2 goes here"
   ]
  },
  {
   "cell_type": "markdown",
   "id": "5879f787",
   "metadata": {},
   "source": [
    "c) Actuellement le code génère beaucoup d'erreurs, comment peut-on les diminuer ?"
   ]
  },
  {
   "cell_type": "markdown",
   "id": "82067a57-cb06-4287-99ed-be72fa3201b7",
   "metadata": {},
   "source": [
    "< Réponse ici >"
   ]
  }
 ],
 "metadata": {
  "kernelspec": {
   "display_name": "Python 3 (ipykernel)",
   "language": "python",
   "name": "python3"
  },
  "language_info": {
   "codemirror_mode": {
    "name": "ipython",
    "version": 3
   },
   "file_extension": ".py",
   "mimetype": "text/x-python",
   "name": "python",
   "nbconvert_exporter": "python",
   "pygments_lexer": "ipython3",
   "version": "3.10.12"
  }
 },
 "nbformat": 4,
 "nbformat_minor": 5
}
