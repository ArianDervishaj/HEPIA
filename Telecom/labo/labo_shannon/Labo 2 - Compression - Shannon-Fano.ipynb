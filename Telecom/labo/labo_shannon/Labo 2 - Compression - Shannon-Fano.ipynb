{
 "cells": [
  {
   "cell_type": "markdown",
   "metadata": {},
   "source": [
    "\n",
    "# Bases des télécommunications 1\n",
    "\n",
    "Date : \n",
    "\n",
    "Étudiants : \\<insérer ici vos prénoms et noms\\>"
   ]
  },
  {
   "cell_type": "markdown",
   "metadata": {},
   "source": [
    "\n",
    "## __Introduction__\n",
    "\n",
    "Le but de ce laboratoire est de mettre en pratique les concepts de compression de données vus en classe de Bases des\n",
    "Télécommunications. On travaillera sur la compression d’un fichier texte\n",
    "\n",
    "- Le rendu du **jupyter notebook** doit se faire sur __cyberlearn__ sous le format de nom de fichier \"telecom_labo2_\\<nom1\\>_\\<nom2\\>.ipynb\" \n",
    "- Le fichier texte utilisé ici doit être encodé en UTF-8 (sans BOM), vous pouvez le vérifier avec Notepad++ par exemple.\n",
    "- Exemple de code python 3 pour ouvrir en lecture un fichier texte en UTF-8 : __*open(INPUT, \"r\", encoding=\"UTF-8\")*__\n"
   ]
  },
  {
   "cell_type": "markdown",
   "metadata": {},
   "source": [
    "# III. Shannon-Fano\n",
    "\n",
    "On veut construire un code de Shannon-Fano pour compresser notre fichier texte. On part du\n",
    "principe que l'arbre de codage généré n’a pas besoin d’être transmis dans le fichier compressé.\n",
    "\n",
    "a) Comme le codage de Huffman, réalisez ci-dessous un programme qui lit un fichier texte, puis générez un codage de\n",
    "Shannon-Fano pour les caractères de ce fichier. Votre programme doit afficher le code\n",
    "binaire choisi pour chaque caractère.\n",
    "\n",
    "\n",
    "Exemple :\n",
    "\n",
    "<table>\n",
    "<thead>\n",
    "    <tr>\n",
    "        <th>char</th>\n",
    "        <th>hex</th>\n",
    "        <th>binary</th>\n",
    "    </tr>\n",
    "</thead>\n",
    "<tr>\n",
    "    <td>a</td>\n",
    "    <td>0x61</td>\n",
    "    <td>11</td>\n",
    "</tr>\n",
    "<tr>\n",
    "    <td>b</td>\n",
    "    <td>0x62</td>\n",
    "    <td>10</td>\n",
    "</tr>\n",
    "<tr>\n",
    "    <td>@</td>\n",
    "    <td>0x40</td>\n",
    "    <td>00</td>\n",
    "</tr>\n",
    "<tr>\n",
    "    <td>c</td>\n",
    "    <td>0x63</td>\n",
    "    <td>011</td>\n",
    "</tr>\n",
    "<tr>\n",
    "    <td>A</td>\n",
    "    <td>0x41</td>\n",
    "    <td>010</td>\n",
    "</tr>\n",
    "</table>"
   ]
  },
  {
   "cell_type": "code",
   "execution_count": 1,
   "metadata": {},
   "outputs": [],
   "source": [
    "# exercice a.\n",
    "from pathlib import Path\n",
    "file = Path.cwd() / 'input.txt'\n",
    "with open(file, 'r') as text:\n",
    "    textfile = text.read()\n",
    "    text_sorted = sorted(textfile)\n",
    "    nb_of_char = len(textfile)"
   ]
  },
  {
   "cell_type": "code",
   "execution_count": 2,
   "metadata": {},
   "outputs": [
    {
     "name": "stdout",
     "output_type": "stream",
     "text": [
      "33\n",
      "' '\t0x20\t0.151365 \n",
      "\n",
      "'e'\t0x65\t0.121588 \n",
      "\n",
      "'t'\t0x74\t0.084367 \n",
      "\n",
      "'u'\t0x75\t0.062035 \n",
      "\n",
      "'s'\t0x73\t0.059553 \n",
      "\n",
      "'a'\t0x61\t0.057072 \n",
      "\n",
      "'n'\t0x6e\t0.057072 \n",
      "\n",
      "'r'\t0x72\t0.049628 \n",
      "\n",
      "'i'\t0x69\t0.047146 \n",
      "\n",
      "'o'\t0x6f\t0.042184 \n",
      "\n",
      "'l'\t0x6c\t0.037221 \n",
      "\n",
      "'d'\t0x64\t0.029777 \n",
      "\n",
      "'m'\t0x6d\t0.029777 \n",
      "\n",
      "'p'\t0x70\t0.022333 \n",
      "\n",
      "'.'\t0x2e\t0.01737 \n",
      "\n",
      "'c'\t0x63\t0.01737 \n",
      "\n",
      "\"'\"\t0x27\t0.012407 \n",
      "\n",
      "'x'\t0x78\t0.012407 \n",
      "\n",
      "'é'\t0xe9\t0.012407 \n",
      "\n",
      "'v'\t0x76\t0.009926 \n",
      "\n",
      "'\\n'\t0xa\t0.007444 \n",
      "\n",
      "'D'\t0x44\t0.007444 \n",
      "\n",
      "'I'\t0x49\t0.007444 \n",
      "\n",
      "'L'\t0x4c\t0.007444 \n",
      "\n",
      "'b'\t0x62\t0.007444 \n",
      "\n",
      "'q'\t0x71\t0.007444 \n",
      "\n",
      "'C'\t0x43\t0.004963 \n",
      "\n",
      "'g'\t0x67\t0.004963 \n",
      "\n",
      "','\t0x2c\t0.002481 \n",
      "\n",
      "'f'\t0x66\t0.002481 \n",
      "\n",
      "'à'\t0xe0\t0.002481 \n",
      "\n",
      "'ç'\t0xe7\t0.002481 \n",
      "\n",
      "'è'\t0xe8\t0.002481 \n",
      "\n"
     ]
    }
   ],
   "source": [
    "dict_char_hex_freq = {}\n",
    "\n",
    "for char in text_sorted:\n",
    "    if char not in dict_char_hex_freq:\n",
    "        dict_char_hex_freq[char] = (char, hex(ord(char)), text_sorted.count(char) / len(text_sorted))\n",
    "\n",
    "list_char_hex_bin = list(dict_char_hex_freq.values())\n",
    "sorted_list = sorted(list_char_hex_bin, key=lambda x: x[2], reverse=True)\n",
    "print(len(sorted_list))\n",
    "with open('out.txt', 'w') as f:\n",
    "    for char, char_hex, freq in sorted_list:\n",
    "        string = f\"{repr(char)}\\t{char_hex}\\t{round(freq,6)} \\n\"\n",
    "        print(string)\n",
    "        f.write(string)"
   ]
  },
  {
   "cell_type": "code",
   "execution_count": 18,
   "metadata": {
    "scrolled": true
   },
   "outputs": [
    {
     "name": "stdout",
     "output_type": "stream",
     "text": [
      "('p', '0x70', '110100')\n",
      "('e', '0x65', '001')\n",
      "('.', '0x2e', '110101')\n",
      "('f', '0x66', '11111100')\n",
      "('D', '0x44', '111011')\n",
      "('o', '0x6f', '1010')\n",
      "('a', '0x61', '0111')\n",
      "('r', '0x72', '10001')\n",
      "('m', '0x6d', '11001')\n",
      "(',', '0x2c', '1111101')\n",
      "('q', '0x71', '1111011')\n",
      "(\"'\", '0x27', '1110000')\n",
      "('c', '0x63', '11011')\n",
      "('l', '0x6c', '1011')\n",
      "('I', '0x49', '1111000')\n",
      "('è', '0xe8', '11111111')\n",
      "('x', '0x78', '1110001')\n",
      "('t', '0x74', '0100')\n",
      "('n', '0x6e', '10000')\n",
      "(' ', '0x20', '000')\n",
      "('u', '0x75', '0101')\n",
      "('s', '0x73', '0110')\n",
      "('i', '0x69', '1001')\n",
      "('g', '0x67', '11111001')\n",
      "('v', '0x76', '1110100')\n",
      "('L', '0x4c', '1111001')\n",
      "('\\n', '0xa', '1110101')\n",
      "('b', '0x62', '1111010')\n",
      "('d', '0x64', '11000')\n",
      "('à', '0xe0', '11111101')\n",
      "('ç', '0xe7', '11111110')\n",
      "('é', '0xe9', '111001')\n",
      "('C', '0x43', '11111000')\n"
     ]
    }
   ],
   "source": [
    "# Shannon - Fano\n",
    "def shannon_fano(input_list, list_bin):\n",
    "    if(len(input_list) == 1):\n",
    "        return list_bin\n",
    "\n",
    "    total_sum = sum(input_list)\n",
    "    half_sum = total_sum / 2\n",
    "    \n",
    "    index = 0\n",
    "    cumulative_sum = 0\n",
    "\n",
    "    for i, freq in enumerate(input_list):\n",
    "        cumulative_sum += freq\n",
    "        if cumulative_sum >= half_sum:\n",
    "            index = i\n",
    "            break\n",
    "    \n",
    "    for k in range(len(input_list)):\n",
    "        if k <= index:\n",
    "            list_bin[k] += '0'\n",
    "        else:\n",
    "            list_bin[k] += '1'\n",
    "\n",
    "    list_bin_left = shannon_fano(input_list[:index + 1], list_bin[:index + 1])\n",
    "    list_bin_right = shannon_fano(input_list[index + 1:], list_bin[index + 1:])\n",
    "\n",
    "\n",
    "    return list_bin_left + list_bin_right\n",
    "\n",
    "\n",
    "frequencies = [freq for _, _, freq in sorted_list]\n",
    "list_bin = [''] * len(frequencies)\n",
    "list_bin = shannon_fano(frequencies,list_bin)\n",
    "\n",
    "dict_char_hex_bin = {(char, hex, list_bin[i]) for i,(char,hex,_) in enumerate(sorted_list)}\n",
    "for element in dict_char_hex_bin:\n",
    "    print(element)\n",
    "\n"
   ]
  },
  {
   "cell_type": "markdown",
   "metadata": {},
   "source": [
    "b) Afficher le taux moyen de bits par caractère de votre code, dans la console."
   ]
  },
  {
   "cell_type": "code",
   "execution_count": 24,
   "metadata": {},
   "outputs": [
    {
     "name": "stdout",
     "output_type": "stream",
     "text": [
      "5.878787878787879\n"
     ]
    }
   ],
   "source": [
    "# exercice b.\n",
    "nb_of_bits = [len(bits) for _,_,bits in dict_char_hex_bin]\n",
    "\n",
    "average_nb_of_bits = 0\n",
    "for element in nb_of_bits:\n",
    "    average_nb_of_bits += element\n",
    "average_nb_of_bits /= len(dict_char_hex_bin)\n",
    "\n",
    "print(average_nb_of_bits)"
   ]
  },
  {
   "cell_type": "markdown",
   "metadata": {},
   "source": [
    " c) Que pouvez-vous conclure du résultat obtenu à l'exercice b) et de l’entropie du point (I.c), en une phrase ?\n"
   ]
  },
  {
   "cell_type": "markdown",
   "metadata": {},
   "source": [
    "L'entropie était de 4.266154878255668. On peut voir que il y'a une grande différence entre l'entropie et notre moyenne. Ce qui veut dire que notre algorithme n'est pas très efficace."
   ]
  },
  {
   "cell_type": "markdown",
   "metadata": {},
   "source": [
    "d) Compresser le fichier texte d’input dans un nouveau fichier binaire à l'aide de votre arbre de codage. Si la longueur du message codé n’est pas un multiple de 8, rajouter des bits 0 à la fin. Le\n",
    "fichier compressé doit avoir une taille sur disque significativement plus petite que\n",
    "celui de base."
   ]
  },
  {
   "cell_type": "code",
   "execution_count": null,
   "metadata": {},
   "outputs": [],
   "source": [
    "# exercice d.\n"
   ]
  },
  {
   "cell_type": "markdown",
   "metadata": {},
   "source": [
    "e) Que manquerait-il a ce fichier binaire pour pouvoir être décodé par n’importe qui ?\n",
    "(Bonus)"
   ]
  },
  {
   "cell_type": "markdown",
   "metadata": {},
   "source": [
    "**TODO: Bonus e)**"
   ]
  },
  {
   "cell_type": "markdown",
   "metadata": {},
   "source": [
    "# IV. Bonus"
   ]
  },
  {
   "cell_type": "markdown",
   "metadata": {},
   "source": [
    "⚠️ Difficile ⚠️ Pas obligatoire\n",
    "\n",
    "Implémentez par vos moyens la compression de Lempel-Ziv-Welch ([Wikipedia](https://en.wikipedia.org/wiki/Lempel%E2%80%93Ziv%E2%80%93Welch)) et réalisez une étude comparative de cette méthode avec celles vues en cours."
   ]
  },
  {
   "cell_type": "code",
   "execution_count": null,
   "metadata": {},
   "outputs": [],
   "source": []
  }
 ],
 "metadata": {
  "kernelspec": {
   "display_name": "Python 3 (ipykernel)",
   "language": "python",
   "name": "python3"
  },
  "language_info": {
   "codemirror_mode": {
    "name": "ipython",
    "version": 3
   },
   "file_extension": ".py",
   "mimetype": "text/x-python",
   "name": "python",
   "nbconvert_exporter": "python",
   "pygments_lexer": "ipython3",
   "version": "3.10.12"
  }
 },
 "nbformat": 4,
 "nbformat_minor": 4
}
