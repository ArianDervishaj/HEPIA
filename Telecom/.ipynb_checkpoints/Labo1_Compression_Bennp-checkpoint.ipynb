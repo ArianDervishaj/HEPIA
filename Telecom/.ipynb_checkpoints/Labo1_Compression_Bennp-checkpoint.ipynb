{
 "cells": [
  {
   "cell_type": "markdown",
   "metadata": {},
   "source": [
    "# Bases des télécommunications 1 : Codage de Huffman \n",
    "\n",
    "## __Introduction__\n",
    "\n",
    "Le but de ce laboratoire est de mettre en pratique les concepts de compression de données vus en classe de Bases des\n",
    "Télécommunications. On travaillera sur la compression d’un fichier texte\n",
    "\n",
    "- Le rendu du **jupyter notebook** doit se faire sur __cyberlearn__ avec le nom de fichier : `telecom_labo1_<nom1>_<nom2>_<nom du groupe>.ipynb`\n",
    "- Le fichier texte utilisé ici doit être encodé en UTF-8 (sans BOM), vous pouvez le vérifier avec Notepad++ par exemple.\n",
    "- Exemple de code python 3 pour ouvrir en lecture un fichier texte en UTF-8 : __*open(INPUT, \"r\", encoding=\"UTF-8\")*__\n"
   ]
  },
  {
   "cell_type": "markdown",
   "metadata": {},
   "source": [
    "Noms des élèves : `Villard, Reinhard`"
   ]
  },
  {
   "cell_type": "markdown",
   "metadata": {},
   "source": [
    "<h2>I. Tris alphabétique + fréquentiel</h2>\n",
    "\n",
    "a)  Réalisez  ci-dessous un programme qui lit un fichier texte (input.txt), puis en écrit un nouveau (out1.txt)\n",
    "en écrivant tous les caractères dans l’ordre alphabétique (ordre de leur valeur\n",
    "ASCII).\n",
    "Exemple : **abb@acA → @Aaabbc** (La fonction `sorted` de Python 3 pourrait vous aider, tout comme l’utilisation\n",
    "de dictionnaires)"
   ]
  },
  {
   "cell_type": "code",
   "execution_count": 2,
   "metadata": {},
   "outputs": [],
   "source": [
    "# exercice a.\n",
    "with open(\"input.txt\", \"r\") as file:\n",
    "    sortedContent = sorted(file.read())\n",
    "\n",
    "with open('out1.txt', \"w\") as asciiSortedFile:\n",
    "    for character in sortedContent:\n",
    "        asciiSortedFile.write(str(character))"
   ]
  },
  {
   "cell_type": "markdown",
   "metadata": {},
   "source": [
    "b) Ajoutez à votre premier programme la possibilité d'écrire dans un nouveau fichier texte\n",
    "(out2.txt), mais cette fois, les données sont triés dans l’**ordre des fréquences d’apparition décroissante**.\n",
    "\n",
    "``Exemple : abb@acA → aabb@Ac``\n",
    "\n",
    "Votre programme doit afficher dans la console, la fréquence d’apparition pour\n",
    "chaque caractère. (Ainsi que la valeur ascii, hexadécimal et la fréquence d'apparition du caractère)\n",
    "\n",
    "Exemple : \n",
    "\n",
    "<table>\n",
    "<tr>\n",
    "    <td>a</td>\n",
    "    <td>0x61</td>\n",
    "    <td>0.285</td>\n",
    "</tr>\n",
    "<tr>\n",
    "    <td>b</td>\n",
    "    <td>0x62</td>\n",
    "    <td>0.285</td>\n",
    "</tr>\n",
    "<tr>\n",
    "    <td>A</td>\n",
    "    <td>0x41</td>\n",
    "    <td>0.142</td>\n",
    "</tr>\n",
    "</table>\n",
    "\n"
   ]
  },
  {
   "cell_type": "code",
   "execution_count": 3,
   "metadata": {},
   "outputs": [
    {
     "name": "stdout",
     "output_type": "stream",
     "text": [
      "[(' ', 61, '0x20', 0.1514), ('e', 49, '0x65', 0.1216), ('t', 34, '0x74', 0.0844), ('u', 25, '0x75', 0.062), ('s', 24, '0x73', 0.0596), ('a', 23, '0x61', 0.0571), ('n', 23, '0x6e', 0.0571), ('r', 20, '0x72', 0.0496), ('i', 19, '0x69', 0.0471), ('o', 17, '0x6f', 0.0422), ('l', 15, '0x6c', 0.0372), ('d', 12, '0x64', 0.0298), ('m', 12, '0x6d', 0.0298), ('p', 9, '0x70', 0.0223), ('.', 7, '0x2e', 0.0174), ('c', 7, '0x63', 0.0174), (\"'\", 5, '0x27', 0.0124), ('x', 5, '0x78', 0.0124), ('é', 5, '0xe9', 0.0124), ('v', 4, '0x76', 0.0099), ('\\n', 3, '0xa', 0.0074), ('D', 3, '0x44', 0.0074), ('I', 3, '0x49', 0.0074), ('L', 3, '0x4c', 0.0074), ('b', 3, '0x62', 0.0074), ('q', 3, '0x71', 0.0074), ('C', 2, '0x43', 0.005), ('g', 2, '0x67', 0.005), (',', 1, '0x2c', 0.0025), ('f', 1, '0x66', 0.0025), ('à', 1, '0xe0', 0.0025), ('ç', 1, '0xe7', 0.0025), ('è', 1, '0xe8', 0.0025)]\n"
     ]
    }
   ],
   "source": [
    "# exercice b.\n",
    "occurenceSortedList = sorted(sortedContent, key=lambda x: sortedContent.count(x), reverse = True )\n",
    "\n",
    "#Create occurence sorted file\n",
    "with open(\"out2.txt\", \"w\") as occurenceSortedFile:\n",
    "    for character in occurenceSortedList:\n",
    "        occurenceSortedFile.write(character)    \n",
    "\n",
    "#Create the character dictionary\n",
    "dictionary = []\n",
    "for character in occurenceSortedList:\n",
    "    existingChar = False\n",
    "    for tuple in dictionary:\n",
    "        if character in tuple[0]:\n",
    "            existingChar = True\n",
    "    if not(existingChar):\n",
    "        dictionary.append((character, sortedContent.count(character), hex(ord(character)), round(sortedContent.count(character)/len(sortedContent),4)))\n",
    "        \n",
    "print(dictionary)"
   ]
  },
  {
   "cell_type": "markdown",
   "metadata": {},
   "source": [
    "c) Améliorez votre programme pour qu’il calcule l’entropie, la quantité de décision,\n",
    "la redondance et le taux de compression maximal du fichier. Le tout est à afficher\n",
    "dans la console.\n",
    "\n",
    "**⚠️ N’oubliez pas que les espaces, la ponctuation et le retour chariot sont aussi considéré comme des\n",
    "caractères. \n",
    "Votre programme doit pouvoir traiter ces caractères de manière adéquate.**\n"
   ]
  },
  {
   "cell_type": "code",
   "execution_count": 4,
   "metadata": {
    "scrolled": true
   },
   "outputs": [
    {
     "name": "stdout",
     "output_type": "stream",
     "text": [
      "Entropie :  4.265946438818047\n",
      "Quantité de decision :  5.044394119358453\n",
      "Redondance :  0.7784476805404061\n",
      "Taux de compression maximal :  0.15431936167577034\n"
     ]
    }
   ],
   "source": [
    "# exercice c.\n",
    "import math\n",
    "\n",
    "def I(probX):\n",
    "    return -1*math.log(probX, 2)\n",
    "\n",
    "entropie = 0\n",
    "for tuple in dictionary:\n",
    "    entropie += tuple[3]*I(tuple[3])\n",
    "print(\"Entropie : \", entropie) \n",
    "\n",
    "qDecision = math.log(len(dictionary), 2)\n",
    "print(\"Quantité de decision : \", qDecision)\n",
    "\n",
    "redondance = qDecision-entropie\n",
    "print(\"Redondance : \", redondance)\n",
    "\n",
    "compressionMax = (qDecision-entropie)/qDecision\n",
    "print(\"Taux de compression maximal : \", compressionMax)"
   ]
  },
  {
   "cell_type": "markdown",
   "metadata": {},
   "source": [
    "<h2>II. Code de Huffman</h2>\n",
    "\n",
    "On veut construire un code de Huffman pour compresser notre fichier texte. On part du principe\n",
    "que le code n’a pas besoin d’être transmis dans le fichier compressé. \n"
   ]
  },
  {
   "cell_type": "markdown",
   "metadata": {},
   "source": [
    "a) À partir de l’exercice précédent (utilisez les mêmes valeurs précement calculées), écrivez un code générant un codage de Huffman pour\n",
    "les caractères de ce fichier. Votre programme doit imprimer l'arbre de codage que vous avez générer. Affichez la valeur ASCII des\n",
    "charactères ainsi que leur code binaire généré par codage de Huffman."
   ]
  },
  {
   "cell_type": "markdown",
   "metadata": {},
   "source": [
    "Exemple:\n",
    "\n",
    "<table>\n",
    "<tr>\n",
    "    <td>0x61</td>\n",
    "    <td>11</td>\n",
    "</tr>\n",
    "<tr>\n",
    "    <td>0x62</td>\n",
    "    <td>10</td>\n",
    "</tr>\n",
    "<tr>\n",
    "    <td>0x40</td>\n",
    "    <td>00</td>\n",
    "</tr>\n",
    "<tr>\n",
    "    <td>0x63</td>\n",
    "    <td>011</td>\n",
    "</tr>\n",
    "<tr>\n",
    "    <td>0x41</td>\n",
    "    <td>010</td>\n",
    "</tr>\n",
    "</table>"
   ]
  },
  {
   "cell_type": "code",
   "execution_count": 10,
   "metadata": {},
   "outputs": [
    {
     "name": "stdout",
     "output_type": "stream",
     "text": [
      "[(' ', 61, '0x20', 0.1514), ('e', 49, '0x65', 0.1216), ('t', 34, '0x74', 0.0844), ('u', 25, '0x75', 0.062), ('s', 24, '0x73', 0.0596), ('a', 23, '0x61', 0.0571), ('n', 23, '0x6e', 0.0571), ('r', 20, '0x72', 0.0496), ('i', 19, '0x69', 0.0471), ('o', 17, '0x6f', 0.0422), ('l', 15, '0x6c', 0.0372), ('d', 12, '0x64', 0.0298), ('m', 12, '0x6d', 0.0298), ('p', 9, '0x70', 0.0223), ('.', 7, '0x2e', 0.0174), ('c', 7, '0x63', 0.0174), (\"'\", 5, '0x27', 0.0124), ('x', 5, '0x78', 0.0124), ('é', 5, '0xe9', 0.0124), ('v', 4, '0x76', 0.0099), ('\\n', 3, '0xa', 0.0074), ('D', 3, '0x44', 0.0074), ('I', 3, '0x49', 0.0074), ('L', 3, '0x4c', 0.0074), ('b', 3, '0x62', 0.0074), ('q', 3, '0x71', 0.0074), ('C', 2, '0x43', 0.005), ('g', 2, '0x67', 0.005), (',', 1, '0x2c', 0.0025), ('f', 1, '0x66', 0.0025), ('à', 1, '0xe0', 0.0025), ('ç', 1, '0xe7', 0.0025), ('è', 1, '0xe8', 0.0025)]\n",
      "'i' : 0000, probabilité : 0.0471\n",
      "'p' : 00010, probabilité : 0.0223\n",
      "\"'\" : 000110, probabilité : 0.0124\n",
      "'x' : 000111, probabilité : 0.0124\n",
      "'r' : 0010, probabilité : 0.0496\n",
      "'é' : 001100, probabilité : 0.0124\n",
      "'à' : 00110100, probabilité : 0.0025\n",
      "'ç' : 00110101, probabilité : 0.0025\n",
      "'\\n' : 0011011, probabilité : 0.0074\n",
      "'D' : 0011100, probabilité : 0.0074\n",
      "'I' : 0011101, probabilité : 0.0074\n",
      "'L' : 0011110, probabilité : 0.0074\n",
      "'b' : 0011111, probabilité : 0.0074\n",
      "'a' : 0100, probabilité : 0.0571\n",
      "'n' : 0101, probabilité : 0.0571\n",
      "'s' : 0110, probabilité : 0.0596\n",
      "'d' : 01110, probabilité : 0.0298\n",
      "'m' : 01111, probabilité : 0.0298\n",
      "'e' : 100, probabilité : 0.1216\n",
      "'u' : 1010, probabilité : 0.062\n",
      "'q' : 1011000, probabilité : 0.0074\n",
      "'è' : 10110010, probabilité : 0.0025\n",
      "'C' : 10110011, probabilité : 0.005\n",
      "'.' : 101101, probabilité : 0.0174\n",
      "'l' : 10111, probabilité : 0.0372\n",
      "' ' : 110, probabilité : 0.1514\n",
      "'c' : 111000, probabilité : 0.0174\n",
      "'v' : 1110010, probabilité : 0.0099\n",
      "'g' : 11100110, probabilité : 0.005\n",
      "',' : 111001110, probabilité : 0.0025\n",
      "'f' : 111001111, probabilité : 0.0025\n",
      "'o' : 11101, probabilité : 0.0422\n",
      "'t' : 1111, probabilité : 0.0844\n"
     ]
    }
   ],
   "source": [
    "class noeud:\n",
    "    def __init__(self,isFeuille, caractere, parent, enfant, valeurBinaire, probabilité):\n",
    "        self.isFeuille = isFeuille\n",
    "        self.caractere = caractere\n",
    "        self.parent = parent\n",
    "        self.enfant = enfant\n",
    "        self.valeurBinaire = valeurBinaire\n",
    "        self.probabilité = probabilité\n",
    "    def __str__(self):\n",
    "        return f\"noeud(caractere={self.caractere} valeurBinaire={self.valeurBinaire}, probabilité={self.probabilité})\"\n",
    "\n",
    "def ouvrirArbre(element, code, dicoCodage):\n",
    "    if element.isFeuille:\n",
    "        code += str(element.valeurBinaire)\n",
    "        print(f\"{repr(element.caractere)} : {code}, probabilité : {element.probabilité}\")\n",
    "        dicoCodage.append([element.caractere, code, element.probabilité])\n",
    "        element.parent.enfant.pop(0)\n",
    "    elif len(element.enfant) == 0:\n",
    "        element.parent.enfant.pop(0)\n",
    "    else:\n",
    "        if element.valeurBinaire != None:\n",
    "            code += str(element.valeurBinaire)\n",
    "        ouvrirArbre(element.enfant[0], code, dicoCodage)\n",
    "\n",
    "tree = [noeud(isFeuille = True, caractere=element[0],enfant = None, parent=None, valeurBinaire=None, probabilité=element[3]) for element in dictionary]\n",
    "dicoCodage = []\n",
    "# Création de l'arbre\n",
    "while len(tree) > 1:\n",
    "    tree = sorted(tree, key = lambda element: element.probabilité)\n",
    "    [tree[0].valeurBinaire, tree[1].valeurBinaire] = [0, 1]\n",
    "    nouveauNoeud = noeud(isFeuille = False, caractere = None, parent = None, enfant = [tree[0], tree[1]], valeurBinaire = None, probabilité = tree[0].probabilité + tree[1].probabilité)\n",
    "    tree[0].parent = nouveauNoeud\n",
    "    tree[1].parent = nouveauNoeud\n",
    "    tree.append(nouveauNoeud)\n",
    "    tree = tree[2:]\n",
    "print(dictionary)\n",
    "\n",
    "# Ouverture de l'arbre\n",
    "while len(tree[0].enfant) > 0:\n",
    "    code = \"\"\n",
    "    ouvrirArbre(tree[0], code, dicoCodage)"
   ]
  },
  {
   "cell_type": "markdown",
   "metadata": {},
   "source": [
    "b) Afficher le taux moyen de bits par caractère de votre code, dans la console."
   ]
  },
  {
   "cell_type": "code",
   "execution_count": 6,
   "metadata": {},
   "outputs": [
    {
     "name": "stdout",
     "output_type": "stream",
     "text": [
      "4.2902000000000005\n",
      "0.02425356118195321\n"
     ]
    }
   ],
   "source": [
    "# exercice b.\n",
    "total = 0\n",
    "for character in dicoCodage:\n",
    "    total += len(character[1])*character[2]\n",
    "    \n",
    "print(total)\n",
    "\n",
    "# Calcul de la redondance\n",
    "print(total-entropie)"
   ]
  },
  {
   "cell_type": "markdown",
   "metadata": {},
   "source": [
    " c) Que pouvez-vous conclure du résultat obtenu à l'exercice b) et de l’entropie du point (I.c), en une phrase ?\n"
   ]
  },
  {
   "cell_type": "markdown",
   "metadata": {},
   "source": [
    "**TODO: Réponse c)**"
   ]
  },
  {
   "cell_type": "markdown",
   "metadata": {},
   "source": [
    "d) Compressez le fichier texte d’input dans un nouveau fichier binaire (huffman.bin) à l'aide de votre arbre de codage. Si la longueur du message codé n’est pas un multiple de 8, rajoutez des bits 0 à la fin. Le\n",
    "fichier compressé doit avoir une taille sur disque significativement plus petite que\n",
    "celui que le fichier source."
   ]
  },
  {
   "cell_type": "code",
   "execution_count": 7,
   "metadata": {},
   "outputs": [
    {
     "name": "stdout",
     "output_type": "stream",
     "text": [
      "Texte codé  : \n",
      "0011110000110010011100100100010111110100111001101001100111010101100011110111010010100011111100011101000100110101001111110011010100010110101001011101111100000111111110011011100110001100010100110000100000101100010101001101110001110101111011111001100001100011100101011011111000001111111100101101110001110010101101111100000111111110010110111000111001010110111110000011111111001011010001101101000110111111010110001010000110000010111110000101110101100110101100100111010011010100101100110011100000011011110010000000111111010111100001110101011100111010011010111100111111110010100011011000010101111010011011011101101011001111111010000010101101100101111010010011110100101111001011011100011011101100111001111111110011001110000001101111001000000011111101011110000111010101110100011011111101000101110111111101101011111101110000100011011011100011101011110001001000010010000111111011110011001001110010100111000110111000100101111011110011001110101011011100111100100100010100110101010000000110110011011110100010101110010000100111010110100110111011001111101010111110010010000000010100011111000101111111000110100110101001011001101110100010000001010000111010101110001000110000010010001010111010101001110011101101011110011000111101110100101000111111000111010001001101010011111100101000110100011011111100001001000110110011000000111100010101111000111110001011111110011101010110111110000011111111001100100101110011000100111111101000000101001011010011011001110110111110111100101110110101110010100110011010001101100010010011100000000101100011011001110010001010110110101001011001101110110010101110010001010011001110100110101110100110101110000111111110011000010010011111010001010011010111010011110000010110011011100010111010001100110000010110001010100101101\n",
      "Texte convertit : \n",
      "L'avantage du Lorem Ipsum sur un texte générique comme 'Du texte. Du texte. Du texte.' est qu'il possède une distribution de lettres plus ou moins normale. \n",
      "Cette distribution est en tout cas comparable avec celle du français standard.\n",
      "Contrairement à une opinion répandue, le Lorem Ipsum n'est pas simplement du texte aléatoire.\n",
      "Il trouve ses racines dans une oeuvre de la littérature latine classique.\n"
     ]
    }
   ],
   "source": [
    "def getCode(caractere):\n",
    "    for code in dicoCodage:\n",
    "        if code[0] == caractere:\n",
    "            return code[1]\n",
    "    return None\n",
    "\n",
    "def decode(text):\n",
    "    decodedText = \"\"\n",
    "    code = \"\"\n",
    "    for binary in text:\n",
    "        code += binary\n",
    "        for element in dicoCodage:\n",
    "            if code == element[1]:\n",
    "                decodedText += element[0]\n",
    "                code = \"\"        \n",
    "    return decodedText\n",
    "    \n",
    "# exercice d.\n",
    "with open(\"input.txt\", \"r\") as file:\n",
    "    fileContent = file.read()\n",
    "\n",
    "convertedText = \"\"\n",
    "for char in fileContent:\n",
    "    if getCode(char) != None:\n",
    "        convertedText += getCode(char)\n",
    "print(\"Texte codé  : \")\n",
    "print(convertedText)\n",
    "print(\"Texte convertit : \")\n",
    "print(decode(convertedText))\n",
    "\n",
    "while len(convertedText)%8 != 0:\n",
    "    convertedText += \"0\"\n",
    "\n",
    "# Conversion en octal\n",
    "with open(\"huffman.bin\", \"wb\") as fichier:\n",
    "    iteration = 0\n",
    "    while iteration < len(convertedText):\n",
    "        octal = \"\"\n",
    "        compteur = iteration\n",
    "        while compteur < iteration + 8:\n",
    "            octal += convertedText[compteur]\n",
    "            compteur += 1\n",
    "\n",
    "        fichier.write(bytes([int(octal,2)]))\n",
    "        iteration += 8"
   ]
  },
  {
   "cell_type": "markdown",
   "metadata": {},
   "source": [
    "e) Que manquerait-il à ce fichier binaire pour être décodé par n’importe qui ?\n",
    "(Bonus)"
   ]
  },
  {
   "cell_type": "markdown",
   "metadata": {},
   "source": [
    "**TODO: Bonus e)**"
   ]
  },
  {
   "cell_type": "markdown",
   "metadata": {},
   "source": [
    "# Bonus\n",
    "\n",
    "Codez par vous même la fonction de tri sans faire appel à la fonction `sorted()` de python"
   ]
  },
  {
   "cell_type": "code",
   "execution_count": 8,
   "metadata": {},
   "outputs": [
    {
     "name": "stdout",
     "output_type": "stream",
     "text": [
      "['b', 'a', 'a', 'f']\n"
     ]
    }
   ],
   "source": [
    "\n",
    "tabOfChars=['b','a','a','f'] # transformation du fichier lu en tableau de charactères\n",
    "mySortedList= tabOfChars.copy()\n",
    "def mySortedFunc(mySortedList):\n",
    "\n",
    "    iteration = 0\n",
    "    while iteration < len(tabOfChars):\n",
    "        place = iteration\n",
    "        minimum = iteration\n",
    "        while place<len(tabOfChars):\n",
    "            if ord(tabOfChars[place])<ord(tabOfChars[minimum]):\n",
    "                minimum = place\n",
    "            place += 1\n",
    "\n",
    "        temp = tabOfChars[iteration]\n",
    "        tabOfChars[iteration] = tabOfChars[minimum]\n",
    "        tabOfChars[minimum] = temp\n",
    "        \n",
    "        iteration += 1\n",
    "    \n",
    "    return mySortedList\n",
    "\n",
    "print(mySortedFunc(mySortedList))"
   ]
  },
  {
   "cell_type": "code",
   "execution_count": 9,
   "metadata": {},
   "outputs": [
    {
     "data": {
      "text/html": [
       "<script>var idx = Jupyter.notebook.get_cells().length-1;\n",
       "Jupyter.notebook.get_cell(idx).set_text('Incorrect! ![failed](https://media.tenor.com/jr9t3yabkH8AAAAC/ah-shit-here-we-go-again.gif)');\n",
       "Jupyter.notebook.to_markdown(idx);\n",
       "Jupyter.notebook.execute_cell(idx);</script>"
      ],
      "text/plain": [
       "<IPython.core.display.HTML object>"
      ]
     },
     "metadata": {},
     "output_type": "display_data"
    }
   ],
   "source": [
    "from IPython.display import display, HTML, Image\n",
    "\n",
    "resolved = sorted(tabOfChars) == mySortedFunc(mySortedList)\n",
    "    \n",
    "# Validation\n",
    "js_code = \"var idx = Jupyter.notebook.get_cells().length-1;\\n\"\n",
    "if resolved:\n",
    "    js_code += \"Jupyter.notebook.get_cell(idx).set_text('Bravo! ![success](https://media.tenor.com/-8Uay6X3E3UAAAAC/gil-cat.gif)');\\n\"\n",
    "else:\n",
    "    js_code += \"Jupyter.notebook.get_cell(idx).set_text('Incorrect! ![failed](https://media.tenor.com/jr9t3yabkH8AAAAC/ah-shit-here-we-go-again.gif)');\\n\"\n",
    "\n",
    "js_code += \"Jupyter.notebook.to_markdown(idx);\\nJupyter.notebook.execute_cell(idx);\"\n",
    "\n",
    "display(HTML('<script>{}</script>'.format(js_code)))"
   ]
  },
  {
   "cell_type": "markdown",
   "metadata": {},
   "source": [
    "Fin"
   ]
  },
  {
   "cell_type": "code",
   "execution_count": null,
   "metadata": {},
   "outputs": [],
   "source": []
  }
 ],
 "metadata": {
  "kernelspec": {
   "display_name": "Python 3 (ipykernel)",
   "language": "python",
   "name": "python3"
  },
  "language_info": {
   "codemirror_mode": {
    "name": "ipython",
    "version": 3
   },
   "file_extension": ".py",
   "mimetype": "text/x-python",
   "name": "python",
   "nbconvert_exporter": "python",
   "pygments_lexer": "ipython3",
   "version": "3.11.3"
  }
 },
 "nbformat": 4,
 "nbformat_minor": 4
}
